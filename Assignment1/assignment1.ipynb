{
 "cells": [
  {
   "cell_type": "code",
   "execution_count": null,
   "metadata": {},
   "outputs": [],
   "source": [
    "import cv2\n",
    "import numpy as np"
   ]
  },
  {
   "cell_type": "code",
   "execution_count": null,
   "metadata": {},
   "outputs": [],
   "source": [
    "# Wanted video to process\n",
    "object = 'obj01'\n",
    "\n",
    "# Read the input video\n",
    "input_video = cv2.VideoCapture(f'./data/{object}.mp4')\n",
    "\n",
    "# Get video properties\n",
    "frame_width = int(input_video.get(cv2.CAP_PROP_FRAME_WIDTH))\n",
    "frame_height = int(input_video.get(cv2.CAP_PROP_FRAME_HEIGHT))\n",
    "fps = input_video.get(cv2.CAP_PROP_FPS)\n",
    "\n",
    "# Create output video writer\n",
    "output_video = cv2.VideoWriter(f'./output/{object}_mask.mp4', cv2.VideoWriter_fourcc(*'mp4'), fps, (frame_width, frame_height))"
   ]
  },
  {
   "cell_type": "code",
   "execution_count": 2,
   "metadata": {},
   "outputs": [],
   "source": [
    "# Iterate through each frame of the input video\n",
    "while True:\n",
    "    ret, frame = input_video.read()\n",
    "\n",
    "    if not ret: break\n",
    "\n",
    "    # Apply seed-based watershed algorithm\n",
    "    gray = cv2.cvtColor(frame, cv2.COLOR_BGR2GRAY)\n",
    "    _, binary = cv2.threshold(gray, 0, 255, cv2.THRESH_BINARY_INV + cv2.THRESH_OTSU)\n",
    "    _, markers = cv2.connectedComponents(binary)\n",
    "    markers = markers + 1\n",
    "    markers[markers == 2] = 0\n",
    "    markers = cv2.watershed(frame, markers)\n",
    "\n",
    "    # Convert markers to colored overlay\n",
    "    overlay = np.zeros(frame.shape, dtype=np.uint8)\n",
    "    overlay[markers == -1] = (0, 0, 255)  # Red color for boundaries\n",
    "\n",
    "    # Apply the overlay on the frame\n",
    "    result = cv2.addWeighted(frame, 1, overlay, 0.5, 0)\n",
    "\n",
    "    # Write the transformed frame to the output video\n",
    "    output_video.write(result)\n",
    "\n",
    "# Release video objects\n",
    "input_video.release()\n",
    "output_video.release()\n"
   ]
  }
 ],
 "metadata": {
  "kernelspec": {
   "display_name": "Python 3",
   "language": "python",
   "name": "python3"
  },
  "language_info": {
   "codemirror_mode": {
    "name": "ipython",
    "version": 3
   },
   "file_extension": ".py",
   "mimetype": "text/x-python",
   "name": "python",
   "nbconvert_exporter": "python",
   "pygments_lexer": "ipython3",
   "version": "3.10.6"
  },
  "orig_nbformat": 4
 },
 "nbformat": 4,
 "nbformat_minor": 2
}
