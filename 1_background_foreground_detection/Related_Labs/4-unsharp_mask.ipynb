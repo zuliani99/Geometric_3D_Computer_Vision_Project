{
 "cells": [
  {
   "cell_type": "code",
   "execution_count": 1,
   "id": "da0666b4-8a88-44ae-bfa6-5f8613f6f080",
   "metadata": {},
   "outputs": [],
   "source": [
    "from IPython import display\n",
    "\n",
    "import cv2 as cv\n",
    "import numpy as np"
   ]
  },
  {
   "attachments": {},
   "cell_type": "markdown",
   "id": "d359720d-0bcc-474d-9080-85a9fa5b82e5",
   "metadata": {},
   "source": [
    "# Unsharp mask demo\n",
    "\n",
    "Please install ipywidgets as described in:\n",
    "[https://ipywidgets.readthedocs.io/en/stable/user_install.html#installing-into-jupyterlab-1-or-2](https://ipywidgets.readthedocs.io/en/stable/user_install.html#installing-into-jupyterlab-1-or-2)"
   ]
  },
  {
   "cell_type": "code",
   "execution_count": 2,
   "id": "fced60ee-0cff-4e2c-a0ca-3f156335a568",
   "metadata": {},
   "outputs": [],
   "source": [
    "from ipywidgets import interact, widgets"
   ]
  },
  {
   "cell_type": "code",
   "execution_count": 3,
   "id": "6feb9494-ebf9-4e23-b2fa-2efc4de5db43",
   "metadata": {},
   "outputs": [],
   "source": [
    "%matplotlib inline\n",
    "import matplotlib.pyplot as plt"
   ]
  },
  {
   "cell_type": "code",
   "execution_count": 4,
   "id": "fe55da13-9eba-418b-a48f-2e6581930225",
   "metadata": {},
   "outputs": [
    {
     "name": "stdout",
     "output_type": "stream",
     "text": [
      "--2023-06-27 15:47:15--  https://upload.wikimedia.org/wikipedia/en/7/7d/Lenna_%28test_image%29.png\n",
      "Resolving upload.wikimedia.org (upload.wikimedia.org)... 185.15.58.240, 2a02:ec80:600:ed1a::2:b\n",
      "Connecting to upload.wikimedia.org (upload.wikimedia.org)|185.15.58.240|:443... connected.\n",
      "HTTP request sent, awaiting response... 200 OK\n",
      "Length: 473831 (463K) [image/png]\n",
      "Saving to: ‘lenna.png’\n",
      "\n",
      "lenna.png           100%[===================>] 462,73K  1,41MB/s    in 0,3s    \n",
      "\n",
      "2023-06-27 15:47:15 (1,41 MB/s) - ‘lenna.png’ saved [473831/473831]\n",
      "\n"
     ]
    }
   ],
   "source": [
    "! wget -nc \"https://upload.wikimedia.org/wikipedia/en/7/7d/Lenna_%28test_image%29.png\" -O lenna.png"
   ]
  },
  {
   "cell_type": "code",
   "execution_count": 5,
   "id": "0e5a38c2-2b54-424d-bd0d-02e0b558867e",
   "metadata": {},
   "outputs": [],
   "source": [
    "I = cv.imread(\"lenna.png\", cv.IMREAD_GRAYSCALE)\n",
    "I = I.astype(np.float32)"
   ]
  },
  {
   "cell_type": "code",
   "execution_count": 9,
   "id": "0e8f8a21-bf5e-4ba5-ad74-699510796add",
   "metadata": {},
   "outputs": [
    {
     "data": {
      "application/vnd.jupyter.widget-view+json": {
       "model_id": "ba8172c9536a4a64a97f5757127655ac",
       "version_major": 2,
       "version_minor": 0
      },
      "text/plain": [
       "interactive(children=(FloatSlider(value=5.0, description='sigma', max=10.0, min=0.1), FloatSlider(value=2.0, d…"
      ]
     },
     "metadata": {},
     "output_type": "display_data"
    },
    {
     "data": {
      "text/plain": [
       "<function __main__.unsharp_mask(sigma, boost)>"
      ]
     },
     "execution_count": 9,
     "metadata": {},
     "output_type": "execute_result"
    }
   ],
   "source": [
    "from ipywidgets import interact, widgets\n",
    "\n",
    "def unsharp_mask( sigma, boost ):\n",
    "    plt.figure( figsize=(20,80))\n",
    "    Ifl = cv.GaussianBlur( I, (15,15), sigma )\n",
    "    Iunsharp = I+(I-Ifl)*boost\n",
    "    \n",
    "    plt.subplot(1,4,1)\n",
    "    plt.imshow( I, interpolation=\"none\", vmin=0, vmax=255, cmap=\"gray\" );\n",
    "    plt.title(\"original\") \n",
    "    plt.subplot(1,4,2)\n",
    "    plt.imshow( Ifl, interpolation=\"none\", vmin=0, vmax=255, cmap=\"gray\" );\n",
    "    plt.title(\"blurred\")\n",
    "    plt.subplot(1,4,3)\n",
    "    plt.imshow( I-Ifl, interpolation=\"none\", cmap=\"gray\" );\n",
    "    plt.title(\"mask\")\n",
    "    plt.subplot(1,4,4)\n",
    "    plt.imshow( Iunsharp, interpolation=\"none\", vmin=0, vmax=255, cmap=\"gray\" );\n",
    "    plt.title(\"unsharp mask\")\n",
    "\n",
    "interact( unsharp_mask, sigma=(0.1,10.0,0.1), boost=(1,4,0.25))"
   ]
  },
  {
   "cell_type": "code",
   "execution_count": null,
   "id": "a88adaea-8a5d-4b5b-a33e-8ac43c6d251e",
   "metadata": {},
   "outputs": [],
   "source": []
  }
 ],
 "metadata": {
  "kernelspec": {
   "display_name": "Python 3 (ipykernel)",
   "language": "python",
   "name": "python3"
  },
  "language_info": {
   "codemirror_mode": {
    "name": "ipython",
    "version": 3
   },
   "file_extension": ".py",
   "mimetype": "text/x-python",
   "name": "python",
   "nbconvert_exporter": "python",
   "pygments_lexer": "ipython3",
   "version": "3.10.6"
  }
 },
 "nbformat": 4,
 "nbformat_minor": 5
}
