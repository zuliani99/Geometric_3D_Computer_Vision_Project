{
 "cells": [
  {
   "attachments": {},
   "cell_type": "markdown",
   "metadata": {},
   "source": [
    "# Template matching demo"
   ]
  },
  {
   "cell_type": "code",
   "execution_count": 2,
   "metadata": {},
   "outputs": [],
   "source": [
    "%matplotlib inline\n",
    "import time\n",
    "import matplotlib.pyplot as plt\n",
    "from IPython import display\n",
    "\n",
    "import cv2 as cv\n",
    "import numpy as np"
   ]
  },
  {
   "cell_type": "code",
   "execution_count": 3,
   "metadata": {},
   "outputs": [
    {
     "name": "stdout",
     "output_type": "stream",
     "text": [
      "--2023-06-27 15:34:12--  https://www.dais.unive.it/~bergamasco/teachingfiles/cvstuff/galaxian.mp4\n",
      "Resolving www.dais.unive.it (www.dais.unive.it)... "
     ]
    },
    {
     "name": "stdout",
     "output_type": "stream",
     "text": [
      "157.138.20.11\n",
      "Connecting to www.dais.unive.it (www.dais.unive.it)|157.138.20.11|:443... connected.\n",
      "HTTP request sent, awaiting response... 200 OK\n",
      "Length: 26941050 (26M) [video/mp4]\n",
      "Saving to: ‘galaxian.mp4’\n",
      "\n",
      "galaxian.mp4        100%[===================>]  25,69M  1,02MB/s    in 15s     \n",
      "\n",
      "2023-06-27 15:34:27 (1,71 MB/s) - ‘galaxian.mp4’ saved [26941050/26941050]\n",
      "\n",
      "--2023-06-27 15:34:27--  https://www.dais.unive.it/~bergamasco/teachingfiles/cvstuff/template.png\n",
      "Resolving www.dais.unive.it (www.dais.unive.it)... 157.138.20.11\n",
      "Connecting to www.dais.unive.it (www.dais.unive.it)|157.138.20.11|:443... connected.\n",
      "HTTP request sent, awaiting response... 200 OK\n",
      "Length: 824 [image/png]\n",
      "Saving to: ‘template.png’\n",
      "\n",
      "template.png        100%[===================>]     824  --.-KB/s    in 0s      \n",
      "\n",
      "2023-06-27 15:34:27 (366 MB/s) - ‘template.png’ saved [824/824]\n",
      "\n"
     ]
    }
   ],
   "source": [
    "!wget -nc https://www.dais.unive.it/~bergamasco/teachingfiles/cvstuff/galaxian.mp4\n",
    "!wget -nc https://www.dais.unive.it/~bergamasco/teachingfiles/cvstuff/template.png"
   ]
  },
  {
   "cell_type": "code",
   "execution_count": 7,
   "metadata": {},
   "outputs": [
    {
     "data": {
      "text/plain": [
       "Text(0.5, 1.0, 'Template')"
      ]
     },
     "execution_count": 7,
     "metadata": {},
     "output_type": "execute_result"
    },
    {
     "data": {
      "image/png": "[encoded data removed]",
      "text/plain": [
       "<Figure size 500x500 with 1 Axes>"
      ]
     },
     "metadata": {},
     "output_type": "display_data"
    }
   ],
   "source": [
    "cap = cv.VideoCapture(\"galaxian.mp4\") # Open the video\n",
    "cap.set(cv.CAP_PROP_POS_FRAMES, 750) # Se the initial video frame\n",
    "\n",
    "T = cv.imread(\"template.png\", cv.IMREAD_GRAYSCALE ).astype(np.float32)\n",
    "T = T - np.mean(T)\n",
    "plt.figure( figsize=(5,5))\n",
    "plt.imshow(T, interpolation=\"none\", cmap=\"gray\")\n",
    "plt.title(\"Template\")"
   ]
  },
  {
   "cell_type": "code",
   "execution_count": null,
   "metadata": {},
   "outputs": [],
   "source": [
    "while cap.isOpened():\n",
    "    display.clear_output(wait=True)\n",
    "    ret,frame = cap.read()\n",
    "    \n",
    "    img_g = cv.cvtColor( frame, cv.COLOR_BGR2GRAY ) # Convert the frame to gray scale\n",
    "    img_g = img_g.astype(np.float32)\n",
    "    img_g = img_g - np.mean(img_g)\n",
    "    \n",
    "    conv = cv.filter2D( img_g, -1, T ) # OpenCV filter2D computes the correlation between img_g and T\n",
    "    maxval = np.amax( conv )\n",
    "    \n",
    "    if maxval>5E6: # Correlation threshold\n",
    "        maxpos = np.unravel_index( np.argmax( conv ), conv.shape )\n",
    "    else:\n",
    "        maxpos=[-999,-999]\n",
    "    \n",
    "    \n",
    "    cv.rectangle( frame, (maxpos[1]-15, maxpos[0]-15),\n",
    "                         (maxpos[1]+15, maxpos[0]+15), \n",
    "                         (255,0,0), 2 )\n",
    "    \n",
    "    plt.figure( figsize=(8,8))\n",
    "    plt.axis(\"off\")\n",
    "    #img = plt.imshow(frame, interpolation=\"none\")\n",
    "    img = plt.imshow(conv, interpolation=\"none\")\n",
    "    plt.title(\"Ship position %d-%d  (peak val: %3.2f)\"%(maxpos[1],maxpos[0],maxval))\n",
    "    display.display(plt.gcf())"
   ]
  },
  {
   "cell_type": "code",
   "execution_count": 1,
   "metadata": {},
   "outputs": [],
   "source": [
    "!rm galaxian.mp4 template.png"
   ]
  },
  {
   "cell_type": "code",
   "execution_count": null,
   "metadata": {},
   "outputs": [],
   "source": []
  }
 ],
 "metadata": {
  "kernelspec": {
   "display_name": "Python 3 (ipykernel)",
   "language": "python",
   "name": "python3"
  },
  "language_info": {
   "codemirror_mode": {
    "name": "ipython",
    "version": 3
   },
   "file_extension": ".py",
   "mimetype": "text/x-python",
   "name": "python",
   "nbconvert_exporter": "python",
   "pygments_lexer": "ipython3",
   "version": "3.10.6"
  }
 },
 "nbformat": 4,
 "nbformat_minor": 4
}
